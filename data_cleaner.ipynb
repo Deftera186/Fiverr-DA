{
 "cells": [
  {
   "cell_type": "markdown",
   "metadata": {},
   "source": [
    "# Fix Data"
   ]
  },
  {
   "cell_type": "markdown",
   "metadata": {},
   "source": [
    "importing all the needed libraries"
   ]
  },
  {
   "cell_type": "code",
   "execution_count": null,
   "metadata": {},
   "outputs": [],
   "source": [
    "import pandas as pd\n",
    "import numpy as np\n",
    "import matplotlib.pyplot as p\n",
    "import math\n",
    "import re\n",
    "\n",
    "%matplotlib inline\n"
   ]
  },
  {
   "cell_type": "markdown",
   "metadata": {},
   "source": [
    "Reading the file from the csv file"
   ]
  },
  {
   "cell_type": "code",
   "execution_count": null,
   "metadata": {},
   "outputs": [],
   "source": [
    "gigs = pd.read_csv('gigs_data.csv', encoding='latin-1')\n",
    "print(gigs.head())\n",
    "len(gigs)"
   ]
  },
  {
   "cell_type": "markdown",
   "metadata": {},
   "source": [
    "Removing the duplicates from the data frame. Duplicates might cause problems in the future, and we don't need them."
   ]
  },
  {
   "cell_type": "code",
   "execution_count": null,
   "metadata": {},
   "outputs": [],
   "source": [
    "gigs.drop_duplicates(inplace=True)"
   ]
  },
  {
   "cell_type": "markdown",
   "metadata": {},
   "source": [
    "The price of each gig was in NIS, when converting to utf-8, it added a weird symbol that we had to remove.\n",
    "In addition to that, we saved the data in a list, and the csv file converted it to a string. We had to undo it, and transform it back to a list of floats."
   ]
  },
  {
   "cell_type": "code",
   "execution_count": null,
   "metadata": {},
   "outputs": [],
   "source": [
    "# remove the weird 'âª' character from the prices column \n",
    "gigs['prices'] = gigs['prices'].str.replace('âª', '')\n",
    "\n",
    "def convert_prices(prices_str):\n",
    "    '''Converts a string of prices to a list of floats'''\n",
    "    prices_str = prices_str.strip('[]').split(', ')\n",
    "    prices_float = []\n",
    "    for price in prices_str:\n",
    "        price = price.replace(',', '').replace(\"'\", \"\")\n",
    "        prices_float.append(float(price))\n",
    "    return prices_float\n",
    "\n",
    "gigs['prices'] = gigs['prices'].apply(convert_prices)\n",
    "\n",
    "gigs.head()\n"
   ]
  },
  {
   "cell_type": "markdown",
   "metadata": {},
   "source": [
    "While crawling, the browser of one of us was in Hebrew, which cause some letter to be in utf-8 Hebrew version. We had to make a dictionery for each utf-8 Hebrew sign, and then convert it to a normal date format."
   ]
  },
  {
   "cell_type": "code",
   "execution_count": null,
   "metadata": {},
   "outputs": [],
   "source": [
    "# Convert member_since column (3 first letter of month-last 2 digit of year, Ex: Sep-19) to epoch time\n",
    "def convert_member_since(member_since_str):\n",
    "    '''Converts a string of member_since to epoch time'''\n",
    "    member_since_str = member_since_str.split('-')\n",
    "    if (len(member_since_str) == 1):\n",
    "        return None\n",
    "    month = member_since_str[0]\n",
    "    year = member_since_str[1]\n",
    "    month_dict = {'Jan': '01', 'Feb': '02', 'Mar': '03', 'Apr': '04', 'May': '05',\n",
    "                 'Jun': '06', 'Jul': '07', 'Aug': '08', 'Sep': '09', 'Oct': '10',\n",
    "                 'Nov': '11', 'Dec': '12', 'éåð': '06', 'àå÷': '10', 'éðå': '01', 'àôø': '04', 'îøõ': '03', 'ðåá': '11', 'ñôè':'09', 'îàé':'05', \"éåì\":'07', \"ãöî\":'12', \"ôáø\": '02', \"àåâ\": '08'}\n",
    "    month = month_dict[month]\n",
    "    member_since_str = '20' + year + '-' + month + '-01'\n",
    "    return pd.to_datetime(member_since_str)\n",
    "\n",
    "gigs['member_since'] = gigs['member_since'].apply(convert_member_since)\n",
    "\n",
    "gigs.head()"
   ]
  },
  {
   "cell_type": "markdown",
   "metadata": {},
   "source": [
    "The recisions were also stored in a list. But the csv format made it a string of string inside a list. \n",
    "We had to convert it to a normal list of integers, and replace the word \"Unlimited\" with np.inf (infinite)."
   ]
  },
  {
   "cell_type": "code",
   "execution_count": null,
   "metadata": {},
   "outputs": [],
   "source": [
    "def convert_revisions(revisions_str):\n",
    "    '''Converts a string of revisions to a list of floats'''\n",
    "    revisions_str = revisions_str.strip('[]').split(', ')\n",
    "    revisions_float = []\n",
    "    for revision in revisions_str:\n",
    "        revision = revision.replace(',', '').replace(\"'\", \"\")\n",
    "        if revision == 'Unlimited':\n",
    "            revision = np.inf\n",
    "            revisions_float.append(float(revision))\n",
    "        else:\n",
    "            if revision == '':\n",
    "                revision = 0\n",
    "            revisions_float.append(int(revision))\n",
    "    return revisions_float\n",
    "\n",
    "gigs['revisions'] = gigs['revisions'].apply(convert_revisions)\n",
    "\n",
    "gigs.head()"
   ]
  },
  {
   "cell_type": "markdown",
   "metadata": {},
   "source": [
    "The delivery times were also converted to a string beacause of the csv file format.\n",
    "In addition to that we had to remove the word \"day\" or \"days\" from the end of each number."
   ]
  },
  {
   "cell_type": "code",
   "execution_count": null,
   "metadata": {},
   "outputs": [],
   "source": [
    "gigs['delivery_times'] = gigs['delivery_times'].str.replace('day', '')\n",
    "gigs['delivery_times'] = gigs['delivery_times'].str.replace(\"s\", \"\")\n",
    "gigs['delivery_times'] = gigs['delivery_times'].str.strip()\n",
    "\n",
    "def convert_delivery_time(delivery_time_str):\n",
    "    '''Converts a string of prices to a list of floats'''\n",
    "    delivery_time_str = delivery_time_str.strip('[]').split(', ')\n",
    "    delivery_times_int = []\n",
    "    for price in delivery_time_str:\n",
    "        price = price.replace(',', '').replace(\"'\", \"\")\n",
    "        delivery_times_int.append(int(price))\n",
    "    return delivery_times_int\n",
    "\n",
    "gigs['delivery_times'] = gigs['delivery_times'].apply(convert_delivery_time)\n",
    "\n",
    "gigs.head()\n"
   ]
  },
  {
   "cell_type": "markdown",
   "metadata": {},
   "source": [
    "We made a dictionery that converts each level to a number."
   ]
  },
  {
   "cell_type": "code",
   "execution_count": 10,
   "metadata": {},
   "outputs": [
    {
     "ename": "KeyError",
     "evalue": "'0'",
     "output_type": "error",
     "traceback": [
      "\u001b[0;31m---------------------------------------------------------------------------\u001b[0m",
      "\u001b[0;31mKeyError\u001b[0m                                  Traceback (most recent call last)",
      "Cell \u001b[0;32mIn[10], line 5\u001b[0m\n\u001b[1;32m      2\u001b[0m     level_conversion \u001b[39m=\u001b[39m {\u001b[39m'\u001b[39m\u001b[39mTop Rated Seller\u001b[39m\u001b[39m'\u001b[39m: \u001b[39m3\u001b[39m, \u001b[39m'\u001b[39m\u001b[39mLevel 2 Seller\u001b[39m\u001b[39m'\u001b[39m: \u001b[39m2\u001b[39m, \u001b[39m'\u001b[39m\u001b[39mLevel 1 Seller\u001b[39m\u001b[39m'\u001b[39m: \u001b[39m1\u001b[39m, \u001b[39m'\u001b[39m\u001b[39mNew Seller\u001b[39m\u001b[39m'\u001b[39m: \u001b[39m0\u001b[39m}\n\u001b[1;32m      3\u001b[0m     \u001b[39mreturn\u001b[39;00m level_conversion[level_str]\n\u001b[0;32m----> 5\u001b[0m gigs[\u001b[39m'\u001b[39m\u001b[39mseller_level\u001b[39m\u001b[39m'\u001b[39m] \u001b[39m=\u001b[39m gigs[\u001b[39m'\u001b[39;49m\u001b[39mseller_level\u001b[39;49m\u001b[39m'\u001b[39;49m]\u001b[39m.\u001b[39;49mapply(convert_level)\n\u001b[1;32m      7\u001b[0m gigs\u001b[39m.\u001b[39mhead()\n",
      "File \u001b[0;32m~/.local/lib/python3.11/site-packages/pandas/core/series.py:4630\u001b[0m, in \u001b[0;36mSeries.apply\u001b[0;34m(self, func, convert_dtype, args, **kwargs)\u001b[0m\n\u001b[1;32m   4520\u001b[0m \u001b[39mdef\u001b[39;00m \u001b[39mapply\u001b[39m(\n\u001b[1;32m   4521\u001b[0m     \u001b[39mself\u001b[39m,\n\u001b[1;32m   4522\u001b[0m     func: AggFuncType,\n\u001b[0;32m   (...)\u001b[0m\n\u001b[1;32m   4525\u001b[0m     \u001b[39m*\u001b[39m\u001b[39m*\u001b[39mkwargs,\n\u001b[1;32m   4526\u001b[0m ) \u001b[39m-\u001b[39m\u001b[39m>\u001b[39m DataFrame \u001b[39m|\u001b[39m Series:\n\u001b[1;32m   4527\u001b[0m \u001b[39m    \u001b[39m\u001b[39m\"\"\"\u001b[39;00m\n\u001b[1;32m   4528\u001b[0m \u001b[39m    Invoke function on values of Series.\u001b[39;00m\n\u001b[1;32m   4529\u001b[0m \n\u001b[0;32m   (...)\u001b[0m\n\u001b[1;32m   4628\u001b[0m \u001b[39m    dtype: float64\u001b[39;00m\n\u001b[1;32m   4629\u001b[0m \u001b[39m    \"\"\"\u001b[39;00m\n\u001b[0;32m-> 4630\u001b[0m     \u001b[39mreturn\u001b[39;00m SeriesApply(\u001b[39mself\u001b[39;49m, func, convert_dtype, args, kwargs)\u001b[39m.\u001b[39;49mapply()\n",
      "File \u001b[0;32m~/.local/lib/python3.11/site-packages/pandas/core/apply.py:1025\u001b[0m, in \u001b[0;36mSeriesApply.apply\u001b[0;34m(self)\u001b[0m\n\u001b[1;32m   1022\u001b[0m     \u001b[39mreturn\u001b[39;00m \u001b[39mself\u001b[39m\u001b[39m.\u001b[39mapply_str()\n\u001b[1;32m   1024\u001b[0m \u001b[39m# self.f is Callable\u001b[39;00m\n\u001b[0;32m-> 1025\u001b[0m \u001b[39mreturn\u001b[39;00m \u001b[39mself\u001b[39;49m\u001b[39m.\u001b[39;49mapply_standard()\n",
      "File \u001b[0;32m~/.local/lib/python3.11/site-packages/pandas/core/apply.py:1076\u001b[0m, in \u001b[0;36mSeriesApply.apply_standard\u001b[0;34m(self)\u001b[0m\n\u001b[1;32m   1074\u001b[0m     \u001b[39melse\u001b[39;00m:\n\u001b[1;32m   1075\u001b[0m         values \u001b[39m=\u001b[39m obj\u001b[39m.\u001b[39mastype(\u001b[39mobject\u001b[39m)\u001b[39m.\u001b[39m_values\n\u001b[0;32m-> 1076\u001b[0m         mapped \u001b[39m=\u001b[39m lib\u001b[39m.\u001b[39;49mmap_infer(\n\u001b[1;32m   1077\u001b[0m             values,\n\u001b[1;32m   1078\u001b[0m             f,\n\u001b[1;32m   1079\u001b[0m             convert\u001b[39m=\u001b[39;49m\u001b[39mself\u001b[39;49m\u001b[39m.\u001b[39;49mconvert_dtype,\n\u001b[1;32m   1080\u001b[0m         )\n\u001b[1;32m   1082\u001b[0m \u001b[39mif\u001b[39;00m \u001b[39mlen\u001b[39m(mapped) \u001b[39mand\u001b[39;00m \u001b[39misinstance\u001b[39m(mapped[\u001b[39m0\u001b[39m], ABCSeries):\n\u001b[1;32m   1083\u001b[0m     \u001b[39m# GH#43986 Need to do list(mapped) in order to get treated as nested\u001b[39;00m\n\u001b[1;32m   1084\u001b[0m     \u001b[39m#  See also GH#25959 regarding EA support\u001b[39;00m\n\u001b[1;32m   1085\u001b[0m     \u001b[39mreturn\u001b[39;00m obj\u001b[39m.\u001b[39m_constructor_expanddim(\u001b[39mlist\u001b[39m(mapped), index\u001b[39m=\u001b[39mobj\u001b[39m.\u001b[39mindex)\n",
      "File \u001b[0;32m~/.local/lib/python3.11/site-packages/pandas/_libs/lib.pyx:2834\u001b[0m, in \u001b[0;36mpandas._libs.lib.map_infer\u001b[0;34m()\u001b[0m\n",
      "Cell \u001b[0;32mIn[10], line 3\u001b[0m, in \u001b[0;36mconvert_level\u001b[0;34m(level_str)\u001b[0m\n\u001b[1;32m      1\u001b[0m \u001b[39mdef\u001b[39;00m \u001b[39mconvert_level\u001b[39m(level_str):\n\u001b[1;32m      2\u001b[0m     level_conversion \u001b[39m=\u001b[39m {\u001b[39m'\u001b[39m\u001b[39mTop Rated Seller\u001b[39m\u001b[39m'\u001b[39m: \u001b[39m3\u001b[39m, \u001b[39m'\u001b[39m\u001b[39mLevel 2 Seller\u001b[39m\u001b[39m'\u001b[39m: \u001b[39m2\u001b[39m, \u001b[39m'\u001b[39m\u001b[39mLevel 1 Seller\u001b[39m\u001b[39m'\u001b[39m: \u001b[39m1\u001b[39m, \u001b[39m'\u001b[39m\u001b[39mNew Seller\u001b[39m\u001b[39m'\u001b[39m: \u001b[39m0\u001b[39m}\n\u001b[0;32m----> 3\u001b[0m     \u001b[39mreturn\u001b[39;00m level_conversion[level_str]\n",
      "\u001b[0;31mKeyError\u001b[0m: '0'"
     ]
    }
   ],
   "source": [
    "def convert_level(level_str):\n",
    "    level_conversion = {'Top Rated Seller': 3, 'Level 2 Seller': 2, 'Level 1 Seller': 1, 'New Seller': 0, '0': 0}\n",
    "    return level_conversion[level_str]\n",
    "\n",
    "gigs['seller_level'] = gigs['seller_level'].apply(convert_level)\n",
    "\n",
    "gigs.head()"
   ]
  },
  {
   "cell_type": "code",
   "execution_count": null,
   "metadata": {},
   "outputs": [],
   "source": [
    "# save new dataframe to csv called gigs_data_cleaned.df as pickle\n",
    "gigs.to_pickle('gigs_data_cleaned.df')"
   ]
  }
 ],
 "metadata": {
  "kernelspec": {
   "display_name": "Python 3 (ipykernel)",
   "language": "python",
   "name": "python3"
  },
  "language_info": {
   "codemirror_mode": {
    "name": "ipython",
    "version": 3
   },
   "file_extension": ".py",
   "mimetype": "text/x-python",
   "name": "python",
   "nbconvert_exporter": "python",
   "pygments_lexer": "ipython3",
   "version": "3.9.13"
  }
 },
 "nbformat": 4,
 "nbformat_minor": 2
}
