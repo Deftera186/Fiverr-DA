{
 "cells": [
  {
   "attachments": {},
   "cell_type": "markdown",
   "metadata": {},
   "source": [
    "# Fix Data"
   ]
  },
  {
   "attachments": {},
   "cell_type": "markdown",
   "metadata": {},
   "source": [
    "importing all the needed libraries"
   ]
  },
  {
   "cell_type": "code",
   "execution_count": null,
   "metadata": {},
   "outputs": [],
   "source": [
    "import pandas as pd\n",
    "import numpy as np\n",
    "import matplotlib.pyplot as p\n",
    "import math\n",
    "import re\n",
    "\n",
    "%matplotlib inline\n"
   ]
  },
  {
   "attachments": {},
   "cell_type": "markdown",
   "metadata": {},
   "source": [
    "Reading the file from the csv file"
   ]
  },
  {
   "cell_type": "code",
   "execution_count": null,
   "metadata": {},
   "outputs": [],
   "source": [
    "gigs = pd.read_csv('gigs_data.csv', encoding='latin-1')\n",
    "print(gigs.head())\n",
    "len(gigs)"
   ]
  },
  {
   "attachments": {},
   "cell_type": "markdown",
   "metadata": {},
   "source": [
    "Removing the duplicates from the data frame. Duplicates might cause problems in the future, and we don't need them."
   ]
  },
  {
   "cell_type": "code",
   "execution_count": null,
   "metadata": {},
   "outputs": [],
   "source": [
    "gigs.drop_duplicates(inplace=True)"
   ]
  },
  {
   "attachments": {},
   "cell_type": "markdown",
   "metadata": {},
   "source": [
    "The price of each gig was in NIS, when converting to utf-8, it added a weird symbol that we had to remove.\n",
    "In addition to that, we saved the data in a list, and the csv file converted it to a string. We had to undo it, and transform it back to a list of floats."
   ]
  },
  {
   "cell_type": "code",
   "execution_count": null,
   "metadata": {},
   "outputs": [],
   "source": [
    "# remove the weird 'âª' character from the prices column \n",
    "gigs['prices'] = gigs['prices'].str.replace('âª', '')\n",
    "\n",
    "def convert_prices(prices_str):\n",
    "    '''Converts a string of prices to a list of floats'''\n",
    "    prices_str = prices_str.strip('[]').split(', ')\n",
    "    prices_float = []\n",
    "    for price in prices_str:\n",
    "        price = price.replace(',', '').replace(\"'\", \"\")\n",
    "        prices_float.append(float(price))\n",
    "    return prices_float\n",
    "\n",
    "gigs['prices'] = gigs['prices'].apply(convert_prices)\n",
    "\n",
    "gigs.head()\n"
   ]
  },
  {
   "attachments": {},
   "cell_type": "markdown",
   "metadata": {},
   "source": [
    "While crawling, the browser of one of us was in Hebrew, which cause some letter to be in utf-8 Hebrew version. We had to make a dictionery for each utf-8 Hebrew sign, and then convert it to a normal date format."
   ]
  },
  {
   "cell_type": "code",
   "execution_count": null,
   "metadata": {},
   "outputs": [],
   "source": [
    "# Convert member_since column (3 first letter of month-last 2 digit of year, Ex: Sep-19) to epoch time\n",
    "def convert_member_since(member_since_str):\n",
    "    '''Converts a string of member_since to epoch time'''\n",
    "    member_since_str = member_since_str.split('-')\n",
    "    if (len(member_since_str) == 1):\n",
    "        return None\n",
    "    month = member_since_str[0]\n",
    "    year = member_since_str[1]\n",
    "    month_dict = {'Jan': '01', 'Feb': '02', 'Mar': '03', 'Apr': '04', 'May': '05',\n",
    "                 'Jun': '06', 'Jul': '07', 'Aug': '08', 'Sep': '09', 'Oct': '10',\n",
    "                 'Nov': '11', 'Dec': '12', 'éåð': '06', 'àå÷': '10', 'éðå': '01', 'àôø': '04', 'îøõ': '03', 'ðåá': '11', 'ñôè':'09', 'îàé':'05', \"éåì\":'07', \"ãöî\":'12', \"ôáø\": '02', \"àåâ\": '08'}\n",
    "    month = month_dict[month]\n",
    "    member_since_str = '20' + year + '-' + month + '-01'\n",
    "    return pd.to_datetime(member_since_str)\n",
    "\n",
    "gigs['member_since'] = gigs['member_since'].apply(convert_member_since)\n",
    "\n",
    "gigs.head()"
   ]
  },
  {
   "attachments": {},
   "cell_type": "markdown",
   "metadata": {},
   "source": [
    "The recisions were also stored in a list. But the csv format made it a string of string inside a list. \n",
    "We had to convert it to a normal list of integers, and replace the word \"Unlimited\" with np.inf (infinite)."
   ]
  },
  {
   "cell_type": "code",
   "execution_count": null,
   "metadata": {},
   "outputs": [],
   "source": [
    "def convert_revisions(revisions_str):\n",
    "    '''Converts a string of revisions to a list of floats'''\n",
    "    revisions_str = revisions_str.strip('[]').split(', ')\n",
    "    revisions_float = []\n",
    "    for revision in revisions_str:\n",
    "        revision = revision.replace(',', '').replace(\"'\", \"\")\n",
    "        if revision == 'Unlimited':\n",
    "            revision = np.inf\n",
    "            revisions_float.append(float(revision))\n",
    "        else:\n",
    "            if revision == '':\n",
    "                revision = 0\n",
    "            revisions_float.append(int(revision))\n",
    "    return revisions_float\n",
    "\n",
    "gigs['revisions'] = gigs['revisions'].apply(convert_revisions)\n",
    "\n",
    "gigs.head()"
   ]
  },
  {
   "attachments": {},
   "cell_type": "markdown",
   "metadata": {},
   "source": [
    "The delivery times were also converted to a string beacause of the csv file format.\n",
    "In addition to that we had to remove the word \"day\" or \"days\" from the end of each number."
   ]
  },
  {
   "cell_type": "code",
   "execution_count": null,
   "metadata": {},
   "outputs": [],
   "source": [
    "gigs['delivery_times'] = gigs['delivery_times'].str.replace('day', '')\n",
    "gigs['delivery_times'] = gigs['delivery_times'].str.replace(\"s\", \"\")\n",
    "gigs['delivery_times'] = gigs['delivery_times'].str.strip()\n",
    "\n",
    "def convert_delivery_time(delivery_time_str):\n",
    "    '''Converts a string of prices to a list of floats'''\n",
    "    delivery_time_str = delivery_time_str.strip('[]').split(', ')\n",
    "    delivery_times_int = []\n",
    "    for price in delivery_time_str:\n",
    "        price = price.replace(',', '').replace(\"'\", \"\")\n",
    "        delivery_times_int.append(int(price))\n",
    "    return delivery_times_int\n",
    "\n",
    "gigs['delivery_times'] = gigs['delivery_times'].apply(convert_delivery_time)\n",
    "\n",
    "gigs.head()\n"
   ]
  },
  {
   "attachments": {},
   "cell_type": "markdown",
   "metadata": {},
   "source": [
    "We made a dictionery that converts each level to a number."
   ]
  },
  {
   "cell_type": "code",
   "execution_count": null,
   "metadata": {},
   "outputs": [],
   "source": [
    "def convert_level(level_str):\n",
    "    level_conversion = {'Top Rated Seller': 3, 'Level 2 Seller': 2, 'Level 1 Seller': 1, 'New Seller': 0, '0': 0}\n",
    "    return level_conversion[level_str]\n",
    "\n",
    "gigs['seller_level'] = gigs['seller_level'].apply(convert_level)\n",
    "\n",
    "gigs.head()"
   ]
  },
  {
   "cell_type": "code",
   "execution_count": null,
   "metadata": {},
   "outputs": [],
   "source": [
    "# save new dataframe to csv called gigs_data_cleaned.df as pickle\n",
    "gigs.to_pickle('gigs_data_cleaned.df')"
   ]
  }
 ],
 "metadata": {
  "kernelspec": {
   "display_name": "Python 3 (ipykernel)",
   "language": "python",
   "name": "python3"
  },
  "language_info": {
   "codemirror_mode": {
    "name": "ipython",
    "version": 3
   },
   "file_extension": ".py",
   "mimetype": "text/x-python",
   "name": "python",
   "nbconvert_exporter": "python",
   "pygments_lexer": "ipython3",
   "version": "3.9.13"
  }
 },
 "nbformat": 4,
 "nbformat_minor": 2
}
